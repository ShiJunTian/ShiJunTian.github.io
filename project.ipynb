{
 "cells": [
  {
   "cell_type": "markdown",
   "id": "0fa03e6a-f1ea-4d3e-b16d-183416031aeb",
   "metadata": {},
   "source": [
    "# A Graphical Analysis of Suicide Rate in the Past Three Decades\n",
    "\n",
    "## Introduction\n",
    "Suicide is dea caused by injuring oneself with the intent to take one's life. According to CDC, it is the 9th leading cause of death for the people of age 10-64 and the second leading cause of death for people of age 10-14 and 25-34. With nearly 1 death every 11 minutes, countless families have suffered immensely due to the suicide of their loved ones. Needless to say, understanding why people are taking their lives can go a long way in possibly preventing suicide and help those in need. \n",
    "In this paper, I will take a closer look at the suicide rate across different countries and attempt to understand what factors into one's death. Specifically, the date will focus on gender, age and a country's GDP from the year 1985 to 2016. This project aims to take the reading through the process of Data Science pipeline which consist of \n",
    "-  Data Collection\n",
    "-  Data management/representation\n",
    "-  Exploratory data analysis\n",
    "-  Hypotehsis testing\n",
    "-  Communication of insights attained\n",
    "\n",
    "I will be using these 5 libraries\n",
    "1. [Pandas](https://pandas.pydata.org/)\n",
    "2. [Numpy](https://numpy.org/)\n",
    "3. [Seaborn](https://seaborn.pydata.org/)\n",
    "4. [Matplotlib](https://matplotlib.org/)\n",
    "5. [Sciki-learn](https://scikit-learn.org/stable/)"
   ]
  },
  {
   "cell_type": "markdown",
   "id": "2e9ab0c2-f848-4e99-8b35-6583051d3e50",
   "metadata": {},
   "source": [
    "## Data Collection\n",
    "The dataset I'm using comes a collection of many sources. All of them is listed below. \n",
    "- [United Nations Development Program: Human Development Index](https://hdr.undp.org/en/indicators/137506)\n",
    "- [World Bank, GDP(1985-2016)](https://databank.worldbank.org/source/world-development-indicators)\n",
    "- [World Health Organization, Suicide Prevention](https://www.who.int/health-topics/suicide)\n",
    "- [Suicide Rate Overview](https://www.kaggle.com/russellyates88/suicide-rates-overview-1985-to-2016)\n",
    "- [Suicide in the Twenty-First Century](https://www.kaggle.com/code/szamil/suicide-in-the-twenty-first-century/notebook)\n",
    "\n",
    "I will first import all the library that will be used and load in the data. The data is contained in a csv file called \"data.csv\". I will also rename some of the column for convinence. "
   ]
  },
  {
   "cell_type": "code",
   "execution_count": 4,
   "id": "7575dc53-61a7-4162-8418-5f28b19e2689",
   "metadata": {},
   "outputs": [
    {
     "name": "stdout",
     "output_type": "stream",
     "text": [
      "Requirement already satisfied: pycountry in /opt/conda/lib/python3.9/site-packages (22.3.5)\n",
      "Requirement already satisfied: setuptools in /opt/conda/lib/python3.9/site-packages (from pycountry) (59.8.0)\n"
     ]
    },
    {
     "data": {
      "text/html": [
       "<div>\n",
       "<style scoped>\n",
       "    .dataframe tbody tr th:only-of-type {\n",
       "        vertical-align: middle;\n",
       "    }\n",
       "\n",
       "    .dataframe tbody tr th {\n",
       "        vertical-align: top;\n",
       "    }\n",
       "\n",
       "    .dataframe thead th {\n",
       "        text-align: right;\n",
       "    }\n",
       "</style>\n",
       "<table border=\"1\" class=\"dataframe\">\n",
       "  <thead>\n",
       "    <tr style=\"text-align: right;\">\n",
       "      <th></th>\n",
       "      <th>country</th>\n",
       "      <th>year</th>\n",
       "      <th>sex</th>\n",
       "      <th>age</th>\n",
       "      <th>suicides_no</th>\n",
       "      <th>population</th>\n",
       "      <th>suicides_pop</th>\n",
       "      <th>country-year</th>\n",
       "      <th>HDI_for_year</th>\n",
       "      <th>gdp_for_year</th>\n",
       "      <th>gdp_per_capita</th>\n",
       "      <th>generation</th>\n",
       "    </tr>\n",
       "  </thead>\n",
       "  <tbody>\n",
       "    <tr>\n",
       "      <th>0</th>\n",
       "      <td>Albania</td>\n",
       "      <td>1987</td>\n",
       "      <td>male</td>\n",
       "      <td>15-24 years</td>\n",
       "      <td>21</td>\n",
       "      <td>312900</td>\n",
       "      <td>6.71</td>\n",
       "      <td>Albania1987</td>\n",
       "      <td>NaN</td>\n",
       "      <td>2,156,624,900</td>\n",
       "      <td>796</td>\n",
       "      <td>Generation X</td>\n",
       "    </tr>\n",
       "    <tr>\n",
       "      <th>1</th>\n",
       "      <td>Albania</td>\n",
       "      <td>1987</td>\n",
       "      <td>male</td>\n",
       "      <td>35-54 years</td>\n",
       "      <td>16</td>\n",
       "      <td>308000</td>\n",
       "      <td>5.19</td>\n",
       "      <td>Albania1987</td>\n",
       "      <td>NaN</td>\n",
       "      <td>2,156,624,900</td>\n",
       "      <td>796</td>\n",
       "      <td>Silent</td>\n",
       "    </tr>\n",
       "    <tr>\n",
       "      <th>2</th>\n",
       "      <td>Albania</td>\n",
       "      <td>1987</td>\n",
       "      <td>female</td>\n",
       "      <td>15-24 years</td>\n",
       "      <td>14</td>\n",
       "      <td>289700</td>\n",
       "      <td>4.83</td>\n",
       "      <td>Albania1987</td>\n",
       "      <td>NaN</td>\n",
       "      <td>2,156,624,900</td>\n",
       "      <td>796</td>\n",
       "      <td>Generation X</td>\n",
       "    </tr>\n",
       "    <tr>\n",
       "      <th>3</th>\n",
       "      <td>Albania</td>\n",
       "      <td>1987</td>\n",
       "      <td>male</td>\n",
       "      <td>75+ years</td>\n",
       "      <td>1</td>\n",
       "      <td>21800</td>\n",
       "      <td>4.59</td>\n",
       "      <td>Albania1987</td>\n",
       "      <td>NaN</td>\n",
       "      <td>2,156,624,900</td>\n",
       "      <td>796</td>\n",
       "      <td>G.I. Generation</td>\n",
       "    </tr>\n",
       "    <tr>\n",
       "      <th>4</th>\n",
       "      <td>Albania</td>\n",
       "      <td>1987</td>\n",
       "      <td>male</td>\n",
       "      <td>25-34 years</td>\n",
       "      <td>9</td>\n",
       "      <td>274300</td>\n",
       "      <td>3.28</td>\n",
       "      <td>Albania1987</td>\n",
       "      <td>NaN</td>\n",
       "      <td>2,156,624,900</td>\n",
       "      <td>796</td>\n",
       "      <td>Boomers</td>\n",
       "    </tr>\n",
       "  </tbody>\n",
       "</table>\n",
       "</div>"
      ],
      "text/plain": [
       "   country  year     sex          age  suicides_no  population  suicides_pop  \\\n",
       "0  Albania  1987    male  15-24 years           21      312900          6.71   \n",
       "1  Albania  1987    male  35-54 years           16      308000          5.19   \n",
       "2  Albania  1987  female  15-24 years           14      289700          4.83   \n",
       "3  Albania  1987    male    75+ years            1       21800          4.59   \n",
       "4  Albania  1987    male  25-34 years            9      274300          3.28   \n",
       "\n",
       "  country-year  HDI_for_year   gdp_for_year  gdp_per_capita       generation  \n",
       "0  Albania1987           NaN  2,156,624,900             796     Generation X  \n",
       "1  Albania1987           NaN  2,156,624,900             796           Silent  \n",
       "2  Albania1987           NaN  2,156,624,900             796     Generation X  \n",
       "3  Albania1987           NaN  2,156,624,900             796  G.I. Generation  \n",
       "4  Albania1987           NaN  2,156,624,900             796          Boomers  "
      ]
     },
     "execution_count": 4,
     "metadata": {},
     "output_type": "execute_result"
    }
   ],
   "source": [
    "!pip install pycountry\n",
    "import pandas as pd\n",
    "import numpy as np\n",
    "import seaborn as sns\n",
    "import matplotlib.pyplot as plt\n",
    "import sklearn\n",
    "import pycountry\n",
    "from sklearn.linear_model import LinearRegression\n",
    "from sklearn.preprocessing import RobustScaler\n",
    "from sklearn.preprocessing import LabelEncoder\n",
    "\n",
    "df = pd.read_csv(\"data.csv\")\n",
    "df.rename(columns = {\"suicides/100k pop\":\"suicides_pop\",\"HDI for year\":\"HDI_for_year\",\n",
    "                  \" gdp_for_year ($) \":\"gdp_for_year\",\" gdp_per_capita ($) \":\"gdp_per_capita\",\n",
    "                    \"gdp_per_capita ($)\":\"gdp_per_capita\"}, inplace=True)\n",
    "df.head()"
   ]
  },
  {
   "cell_type": "markdown",
   "id": "228da409-a2a8-4cad-9b2b-bb4f34a1de28",
   "metadata": {},
   "source": [
    "## Data Management/Representation\n",
    "In this next section, I will represent the data through a variety of different methods in hope that they will produce fruitful insight. Specifically, I want to speculate on what factors into commiting suicide. There are several factors in questions, gender, age, generation and countries. I will use some of the data science techniques and draw some conclusion from each representation. Hopefully, by the end of this exercise, I would be able to notice a trend of what population is most susceptible to commiting suicide. "
   ]
  },
  {
   "cell_type": "markdown",
   "id": "dcb5781d-2517-4c3e-9ab3-3d13f5d72fcd",
   "metadata": {},
   "source": [
    "### Gender\n",
    "From the line plot below, we can see that the number of male committing suicide is consistently higher than female by a significant margin. The amount of male suicide is roughly triple the amount of female suicide. "
   ]
  },
  {
   "cell_type": "code",
   "execution_count": 5,
   "id": "976dc16f-bd69-435e-a0e5-f4ea47a4ed1b",
   "metadata": {},
   "outputs": [
    {
     "name": "stderr",
     "output_type": "stream",
     "text": [
      "/opt/conda/lib/python3.9/site-packages/seaborn/_decorators.py:36: FutureWarning: Pass the following variables as keyword args: x, y. From version 0.12, the only valid positional argument will be `data`, and passing other arguments without an explicit keyword will result in an error or misinterpretation.\n",
      "  warnings.warn(\n",
      "/opt/conda/lib/python3.9/site-packages/seaborn/_decorators.py:36: FutureWarning: Pass the following variables as keyword args: x, y. From version 0.12, the only valid positional argument will be `data`, and passing other arguments without an explicit keyword will result in an error or misinterpretation.\n",
      "  warnings.warn(\n"
     ]
    },
    {
     "data": {
      "image/png": "[encoded data removed]",
      "text/plain": [
       "<Figure size 648x432 with 1 Axes>"
      ]
     },
     "metadata": {
      "needs_background": "light"
     },
     "output_type": "display_data"
    }
   ],
   "source": [
    "df_men = df[df.sex == 'male']\n",
    "df_women = df[df.sex == 'female']\n",
    "plt.figure(figsize=(9,6))\n",
    "plt.title('Suicide number by Gender (1985-2016)', fontsize=20)\n",
    "sns.lineplot(df_men.year, df.suicides_no, ci = None)\n",
    "sns.lineplot(df_women.year, df.suicides_no, ci = None)\n",
    "plt.legend([\"male\", 'female'])\n",
    "plt.show()"
   ]
  },
  {
   "cell_type": "code",
   "execution_count": null,
   "id": "3dfbaa7d-a927-48b8-977a-2977d863b89f",
   "metadata": {},
   "outputs": [],
   "source": []
  }
 ],
 "metadata": {
  "kernelspec": {
   "display_name": "Python 3 (ipykernel)",
   "language": "python",
   "name": "python3"
  },
  "language_info": {
   "codemirror_mode": {
    "name": "ipython",
    "version": 3
   },
   "file_extension": ".py",
   "mimetype": "text/x-python",
   "name": "python",
   "nbconvert_exporter": "python",
   "pygments_lexer": "ipython3",
   "version": "3.9.7"
  }
 },
 "nbformat": 4,
 "nbformat_minor": 5
}
